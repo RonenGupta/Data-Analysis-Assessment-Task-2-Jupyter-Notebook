{
 "cells": [
  {
   "attachments": {},
   "cell_type": "markdown",
   "metadata": {},
   "source": [
    "### **Data Analysis Assessment Task Documentation**"
   ]
  },
  {
   "attachments": {},
   "cell_type": "markdown",
   "metadata": {},
   "source": [
    "**Choose Your Data Scenario and Define Your Purpose**"
   ]
  },
  {
   "attachments": {},
   "cell_type": "markdown",
   "metadata": {},
   "source": [
    "- Data: The data chosen to analyse is the detailed specifications of 10000 cars manufactured from 2010-2020. This covers different attributes such as the car make, model, the year of manufacture, engine size (L), fuel type, and the price (USD).\n",
    "***\n",
    "- Goal: The goal is to identify and compare the average price of cars by year to see how prices have changed from 2010 to 2020 varying by brand. Overall, this goal allows for understanding general car pricing in different car makes, models, and engine size.\n",
    "***\n",
    "- Source: The source comes from the following link, from Kaggle.com: https://www.kaggle.com/datasets/waqi786/cars-dataset-2010-2020.\n",
    "***\n",
    "- Access: The data is publicly available on Kaggle.com, for anyone to use, share, copy, or modify.\n",
    "***\n",
    "- Access Method: This data is accessible via a .csv file.\n",
    "***"
   ]
  },
  {
   "attachments": {},
   "cell_type": "markdown",
   "metadata": {},
   "source": [
    "**Functional Requirements**"
   ]
  },
  {
   "attachments": {},
   "cell_type": "markdown",
   "metadata": {},
   "source": [
    "- Data Loading: \n",
    "  - Description: Cars 2010-2020  - CSV - Loading dataset and displaying in a dataframe.\n",
    "  - Input: Placing the dataset into the correct folder\n",
    "  - Output: System validates the file format (.csv) and displays information in a dataframe.\n",
    "***\n",
    "- Data Cleaning:\n",
    "  - Description: The data requires being sorted/grouped in individual car makes/brands.\n",
    "  - Input: Sorting dataset using Pandas.\n",
    "  - Output: Printing as a Pandas Dataframe.\n",
    "***\n",
    "- Data Analysis:\n",
    "  - Description: The program must be able to sort the dataset by years, after car makes for main analysis. This allows for individual brand comparison, in prices, to ensure the best value for any customer. Will require mean price for each brand, comparing different brands/car makes to eachother.\n",
    "  - Input: User inputs mean function for the chosen column/category/brand etc.\n",
    "  - Output: System outputs the mean.\n",
    "***\n",
    "- Data Visualisation:\n",
    "  - Description: Pandas DataFrames and Matplotlib Charts\n",
    "  - Input: Use Pandas to sort.\n",
    "  - Output: Use Pandas Dataframes to visualise, Use Matplotlib Charts to chart each average.\n",
    "***\n",
    "- Data Reporting:\n",
    "  - Description: CSV File as the final dataset, output average for each category, produce best value for each. Average price for each brand.\n",
    "  - Input: Use Pandas to sort/calculate mean values.\n",
    "  - Output: Store in .csv file as suggested by the original dataset.\n",
    "***"
   ]
  },
  {
   "attachments": {},
   "cell_type": "markdown",
   "metadata": {},
   "source": [
    "**Use Cases**"
   ]
  },
  {
   "attachments": {},
   "cell_type": "markdown",
   "metadata": {},
   "source": [
    "### - Data Loading:\n",
    "  - Actor: User\n",
    "  - Goal: Loading the dataset into the system for analysis.\n",
    "  - Preconditions: Dataset - Cars file is ready to use, found from Kaggle.com.\n",
    "  ***\n",
    "- Main Flow:\n",
    "  1. User places the dataset into the folder which the system will analyse.\n",
    "  2. System validates the folder contains the dataset, and is the correct file format.\n",
    "  3. System loads the dataset and displays the information in a Pandas Dataframe.\n",
    "***\n",
    "- Post Conditions: Dataset is legible, reliable, and ready for cleaning.\n",
    "\n",
    "***\n",
    "\n",
    "### - Data Cleaning\n",
    "  - Actor: User\n",
    "  - Goal: Sort/Group in individual car makes/brands.\n",
    "  - Preconditions: Data is required to be in the regular formatted version, and already checked for any missing values and errors.\n",
    "  ***\n",
    "- Main Flow:\n",
    "  1. Data is ready to use, already checked for missing values and errors, as well as placed in the correct file along with correct file format.\n",
    "  2. System validates, and furthermore sorts these values.\n",
    "  3. System loads the dataset and displays the information in a Pandas Dataframe.\n",
    "***\n",
    "- Post Conditions: Dataset is partially sorted and ready for extensive sorting in order to commence main analysis.\n",
    "\n",
    "***\n",
    "\n",
    "### - Data Analysis\n",
    "  - Actor: User/System (System calculates more)\n",
    "  - Goal: Sorting Dataset by years, prices, average for each brand as done in Data Cleaning.\n",
    "  - Preconditions: Data is required to be sorted by brands, and in proper formatting from low-high price.\n",
    "***\n",
    "- Main Flow:\n",
    "  1. Data is ready to be sorted into an easier to access formatted version after checking for missing values and errors, as well as basic sorting by brands already completed.\n",
    "  2. System sorts these values, gets average, and prices.\n",
    "  3. System loads the dataset and it is now ready to be plotted into Matplotlib charts and shown in a final dataset.\n",
    "***\n",
    "- Post Conditions: Dataset is sorted into the final form it requires, and can now be visualised.\n",
    "\n",
    "***\n",
    "\n",
    "### - Data Visualisation\n",
    "  - Actor: System\n",
    "  - Goal: Finally plotting/visualising the data in Matplotlib and Pandas Dataframes.\n",
    "  - Preconditions: Data is sorted in the final form, sorted in brands and in low to high pricing.\n",
    "***\n",
    "- Main Flow:\n",
    "  1. Data is ready to be visualised into graphs/dataframes (Preferred Graph would be bar for averages).\n",
    "  2. System validates, is ready to plot.\n",
    "  3. System visualises this data in Matplotlib and Dataframes.\n",
    "***\n",
    "- Post Conditions: Dataset is visualised clearly, and is ready for reporting.\n",
    "\n",
    "***\n",
    "\n",
    "### - Data Reporting\n",
    "  - Actor: User\n",
    "  - Goal: Outputting the proper charts and dataframes as before, and storing the dataset in a .csv file.\n",
    "  - Preconditions: Data is visualised clearly using graphs and dataframes, .csv file is formatted to meet this visualisation.\n",
    "***\n",
    "- Main Flow:\n",
    "  1. Data is outputting the proper graphs and dataframes, ready to be stored in an external .csv file.\n",
    "  2. System ensures the data is in the correct file format.\n",
    "  3. Data is stored in the seperate .csv file.\n",
    "***\n",
    "\n",
    "- Post Conditions: Data is stored in the .csv file, and is accessible and information is unchanged.\n",
    "\n",
    "***"
   ]
  },
  {
   "attachments": {},
   "cell_type": "markdown",
   "metadata": {},
   "source": [
    "**Non-Functional Requirements**"
   ]
  },
  {
   "attachments": {},
   "cell_type": "markdown",
   "metadata": {},
   "source": [
    "- Usability: The user interface allows for personalised access for a certain individual, security layers, as well as buttons to access each graph, average, brand, etc. The README document allows for the easy accessibility of data, and explains any complicated processes.\n",
    "\n",
    "- Reliability: "
   ]
  }
 ],
 "metadata": {
  "language_info": {
   "name": "python"
  }
 },
 "nbformat": 4,
 "nbformat_minor": 2
}
