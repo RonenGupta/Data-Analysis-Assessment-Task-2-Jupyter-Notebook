{
 "cells": [
  {
   "cell_type": "markdown",
   "metadata": {},
   "source": [
    "### **Data Analysis Assessment Task Documentation**"
   ]
  },
  {
   "cell_type": "markdown",
   "metadata": {},
   "source": [
    "**Choose Your Data Scenario and Define Your Purpose**"
   ]
  },
  {
   "cell_type": "markdown",
   "metadata": {},
   "source": [
    "###### - Data: The data chosen to analyse is the detailed specifications of 10000 cars manufactured from 2010-2020. This covers different attributes such as the car make, model, the year of manufacture, engine size (L), fuel type, and the price (USD).\n",
    "###### - Goal: The goal is to identify and compare the average price of cars by year to see how prices have changed from 2010 to 2020 varying by brand. Overall, this goal allows for understanding general car pricing in different car makes, models, and engine size.\n",
    "###### - Source: The source comes from the following link, from Kaggle.com: https://www.kaggle.com/datasets/waqi786/cars-dataset-2010-2020.\n",
    "###### - Access: The data is publicly available on Kaggle.com, for anyone to use, share, copy, or modify.\n",
    "###### - Access Method: This data is accessible via a .csv file."
   ]
  }
 ],
 "metadata": {
  "language_info": {
   "name": "python"
  }
 },
 "nbformat": 4,
 "nbformat_minor": 2
}
