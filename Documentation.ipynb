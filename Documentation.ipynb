{
 "cells": [
  {
   "cell_type": "markdown",
   "metadata": {},
   "source": [
    "**Documentation of Producing and Implementing**"
   ]
  },
  {
   "cell_type": "markdown",
   "metadata": {},
   "source": [
    "#### Documentation: Test 1"
   ]
  },
  {
   "cell_type": "code",
   "execution_count": null,
   "metadata": {},
   "outputs": [],
   "source": [
    "import pandas as pd\n",
    "\n",
    "# Load the dataset\n",
    "df = pd.read_csv('cars_2010_2020.csv')\n",
    "# New Function called Sorting_Make, Sorting the Make Column by Alphabetical Order\n",
    "def Sorting_Make():\n",
    "    global df\n",
    "\n",
    "df = df.sort_values('Make')\n",
    "\n",
    "Sorting_Make()\n",
    "\n",
    "\n",
    "# New Function called Sorting_Model, Sorting the Model Column by Alphabetical Order\n",
    "def Sorting_Model():\n",
    "    global df\n",
    "\n",
    "df = df.sort_values('Model')\n",
    "\n",
    "Sorting_Model()\n",
    "# Print the final dataframe\n",
    "print(df)\n"
   ]
  },
  {
   "cell_type": "markdown",
   "metadata": {},
   "source": [
    "**Evaluation**\n",
    "\n",
    "- Date: 12/8/24\n",
    "\n",
    "- Adjustments/Changes: As the first test, I created this code for finding the sorted make and model of each car. Originally I planned to find the year, however it was needless for this stage as I was only finding the mean for each make.\n",
    "\n",
    "- Did it Work: This worked, and it prints the full dataframe starting from BMW (because it is in alphabetical order), and sorts from alphabetical order for the model as well, starting from 3 Series.\n",
    "\n",
    "- What do I do next: Following my data dictionary, I now have to implement the data analysis stage, where I find the mean for each make and model, and finally visualise by year in the dataframe (for cleanliness) and the following I have already accomplished."
   ]
  },
  {
   "cell_type": "markdown",
   "metadata": {},
   "source": [
    "#### Documentation: Test 2"
   ]
  },
  {
   "cell_type": "code",
   "execution_count": null,
   "metadata": {},
   "outputs": [],
   "source": [
    "import pandas as pd\n",
    "import matplotlib.pyplot as plt\n",
    "\n",
    "# Load the dataset\n",
    "df = pd.read_csv('cars_2010_2020.csv')\n",
    "\n",
    "# Calculate the average price for each make, take the columns from the original csv file\n",
    "average_make = df.groupby(['Make'])['Price (USD)'].mean().reset_index()\n",
    "average_make.columns = ['Make', 'Average_Price']\n",
    "\n",
    "# Round to 2 decimal places\n",
    "average_make['Average_Price'] = average_make['Average_Price'].round(2)\n",
    "print(average_make)\n",
    "\n",
    "# Calculate the price for each model, take the columns from the original csv file\n",
    "average_model = df.groupby(['Make', 'Model', 'Year', 'Engine Size (L)', 'Fuel Type'])['Price (USD)'].mean().reset_index()\n",
    "average_model.columns = ['Make', 'Model', 'Year', 'Engine Size (L)', 'Fuel Type', 'Price']\n",
    "\n",
    "# Round to 2 decimal places\n",
    "average_model['Price'] = average_model['Price'].round(2)\n",
    "print(average_model)\n",
    "\n",
    "#Do the same, but for plotting (Other DataFrame Holds Too Much Information Due to Extra Columns)\n",
    "average_makeplot = df.groupby(['Make'])['Price (USD)'].mean().reset_index()\n",
    "average_makeplot.columns = ['Make', 'Average_MakePlot']\n",
    "\n",
    "#Do the same, but for plotting (Other DataFrame Holds Too Much Information Due to Extra Columns)\n",
    "average_modelplot = df.groupby(['Model'])['Price (USD)'].mean().reset_index()\n",
    "average_modelplot.columns = ['Model', 'Average_ModelPlot']\n",
    "\n",
    "# Plot the average price for each make\n",
    "average_makeplot.plot(\n",
    "    kind='bar',\n",
    "    x='Make',\n",
    "    y='Average_MakePlot',\n",
    "    color='blue',\n",
    "    alpha=0.3,\n",
    "    title=\"Comparison of Average Make Prices\"\n",
    ")\n",
    "\n",
    "\n",
    "\n",
    "# Plot the average price for each model\n",
    "average_modelplot.plot(\n",
    "    kind='bar',\n",
    "    x='Model',\n",
    "    y='Average_ModelPlot',\n",
    "    color='blue',\n",
    "    alpha=0.3,\n",
    "    title=\"Comparison of Average Model Prices\"\n",
    ")\n",
    "\n",
    "plt.show()\n",
    "\n",
    "# Storing only model because we need each individual car with all attributes. The other dataframe is simply for the graph and for finding what is the cheapest average make.\n",
    "average_model.to_csv('Average_Model.csv', index=False)"
   ]
  },
  {
   "cell_type": "markdown",
   "metadata": {},
   "source": [
    "**Evaluation**\n",
    "\n",
    "- Date: 13/8/24\n",
    "\n",
    "- Adjustments/Changes: Looking back from documentation 1, there was a huge change. What I did instead of sorting the file from the original csv file, was to make 2 seperate dataframes which one was stored into a csv file later on from the original csv file that found the average make, and model pricing. The other dataframe was only used for graphs and comparison. I then put these dataframes into matplotlib and have suitable graphs for the GUI.\n",
    "\n",
    "- Did it Work: It did, by using the groupby function in pandas allowing me to take certain column aspects and calculate whatever I needed for each. Then, I made it into a new dataframe which the user can access, and visualised and stored it into a new csv file with every single car in alphabetical order.\n",
    "\n",
    "- What do I do next: As I finished Data Analysis, Visualisation and Reporting, the next step was creating a GUI for the user to access. An addon to this GUI is a help system, which easily gives car preferences based on the dataframes I created today. For example, if I asked for a car of an engine size of 4.2 L and a price below 40000, it would give me my preference. If I didn't care about other aspects such as model, I would leave it blank."
   ]
  }
 ],
 "metadata": {
  "language_info": {
   "name": "python"
  }
 },
 "nbformat": 4,
 "nbformat_minor": 2
}
