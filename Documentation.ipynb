{
 "cells": [
  {
   "cell_type": "markdown",
   "metadata": {},
   "source": [
    "**Documentation of Producing and Implementing**"
   ]
  },
  {
   "cell_type": "markdown",
   "metadata": {},
   "source": [
    "#### Documentation: Test 1"
   ]
  },
  {
   "cell_type": "code",
   "execution_count": null,
   "metadata": {},
   "outputs": [],
   "source": [
    "import pandas as pd\n",
    "\n",
    "df = pd.read_csv('cars_2010_2020.csv')\n",
    "\n",
    "def Sorting_Make():\n",
    "    global df\n",
    "\n",
    "df = df.sort_values('Make')\n",
    "\n",
    "Sorting_Make()\n",
    "\n",
    "\n",
    "\n",
    "def Sorting_Model():\n",
    "    global df\n",
    "\n",
    "df = df.sort_values('Model')\n",
    "\n",
    "Sorting_Model()\n",
    "\n",
    "print(df)\n"
   ]
  },
  {
   "cell_type": "markdown",
   "metadata": {},
   "source": [
    "**Evaluation**\n",
    "\n",
    "- Adjustments/Changes: As the first test, I created this code for finding the sorted make and model of each car. Originally I planned to find the year, however it was needless for this stage as I was only finding the mean for each make.\n",
    "\n",
    "- Did it Work: This worked, and it prints the full dataframe starting from BMW (because it is in alphabetical order), and sorts from alphabetical order for the model as well, starting from 3 Series.\n",
    "\n",
    "- What do I do next: Following my data dictionary, I now have to implement the data analysis stage, where I find the mean for each make and model, and finally visualise by year in the dataframe (for cleanliness) and the following I have already accomplished."
   ]
  }
 ],
 "metadata": {
  "language_info": {
   "name": "python"
  }
 },
 "nbformat": 4,
 "nbformat_minor": 2
}
